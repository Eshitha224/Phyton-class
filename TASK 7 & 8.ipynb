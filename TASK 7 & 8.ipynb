{
 "cells": [
  {
   "cell_type": "markdown",
   "metadata": {},
   "source": [
    "## Inbuilt function differnce() & symmetric difference()"
   ]
  },
  {
   "cell_type": "code",
   "execution_count": 14,
   "metadata": {},
   "outputs": [
    {
     "name": "stdout",
     "output_type": "stream",
     "text": [
      "{10, 20}\n",
      "{100, 60}\n"
     ]
    }
   ],
   "source": [
    "## difference() inbuilt function is used to returns a set that contains difference between two sets\n",
    "## eg for differnce() is explained below\n",
    "A = {10, 20, 30, 40, 80} \n",
    "B = {100, 30, 80, 40, 60} \n",
    "print (A.difference(B)) \n",
    "print (B.difference(A)) "
   ]
  },
  {
   "cell_type": "code",
   "execution_count": 8,
   "metadata": {},
   "outputs": [
    {
     "name": "stdout",
     "output_type": "stream",
     "text": [
      "Symmetric difference between X & Y {1, 4}\n",
      "Symmetric difference between Y & Z set()\n",
      "Symmetric difference between X & Z {1, 4}\n"
     ]
    }
   ],
   "source": [
    "## symmetric difference() return the symmetric value in the given sets\n",
    "## eg 1 for symmetric differnce() is explained below\n",
    "# Set X\n",
    "X = {1, 2, 3}\n",
    "\n",
    "# Set Y\n",
    "Y = {2, 3, 4}\n",
    "\n",
    "# Set Z\n",
    "Z = {2, 3, 4}\n",
    "\n",
    "print(\"Symmetric difference between X & Y\", X.symmetric_difference(Y)) \n",
    "print(\"Symmetric difference between Y & Z\", Y.symmetric_difference(Z))\n",
    "print(\"Symmetric difference between X & Z\", X.symmetric_difference(Z))\n"
   ]
  },
  {
   "cell_type": "code",
   "execution_count": 12,
   "metadata": {},
   "outputs": [
    {
     "name": "stdout",
     "output_type": "stream",
     "text": [
      "{'orange', 'banana', ' banana', 'apple'}\n",
      "symmetric difference between B & C {1, 2, 'orange', 'kiwi', ' banana', 'apple'}\n",
      "symmetric difference between A & C {1, 2, 'kiwi', 'banana'}\n"
     ]
    }
   ],
   "source": [
    "## eg 2 for symmetric differnce() is explained below\n",
    "\n",
    "A = {\"apple\" , \"banana\", \"kiwi\"}\n",
    "B = {\"kiwi\" , \" banana\", \"orange\"}\n",
    "C = {1,2,\"apple\"}\n",
    "print(\"symmetric difference between A & B\", A.symmetric_difference(B))\n",
    "print(\"symmetric difference between B & C\", B.symmetric_difference(C))\n",
    "print(\"symmetric difference between A & C\", A.symmetric_difference(C))\n",
    "\n"
   ]
  },
  {
   "cell_type": "code",
   "execution_count": 13,
   "metadata": {},
   "outputs": [
    {
     "name": "stdout",
     "output_type": "stream",
     "text": [
      "{80, 10, 20, 70, 40, 90}\n",
      "{80, 20, 90, 70, 40, 10}\n"
     ]
    }
   ],
   "source": [
    "## eg 3 for symmetric differnce() is explained below\n",
    "var1 = {10,20,40,50,60}\n",
    "var2 = {50,60,70,80,90}\n",
    "print(var1.symmetric_difference(var2))\n",
    "print(var2.symmetric_difference(var1))"
   ]
  },
  {
   "cell_type": "code",
   "execution_count": 15,
   "metadata": {},
   "outputs": [
    {
     "name": "stdout",
     "output_type": "stream",
     "text": [
      "{40, 10, 20}\n",
      "{80, 90, 70}\n"
     ]
    }
   ],
   "source": [
    "## eg 2 for  differnce() is explained below\n",
    "var1 = {10,20,40,50,60}\n",
    "var2 = {50,60,70,80,90}\n",
    "print(var1.difference(var2))\n",
    "print(var2.difference(var1))"
   ]
  },
  {
   "cell_type": "code",
   "execution_count": null,
   "metadata": {},
   "outputs": [],
   "source": [
    "# in built data structures \n",
    "# integer, float, strings, lists, dictionaries, sets, tuple, booleans"
   ]
  },
  {
   "cell_type": "code",
   "execution_count": 56,
   "metadata": {},
   "outputs": [
    {
     "name": "stdout",
     "output_type": "stream",
     "text": [
      "list1: [1, 2, 3, 4, 5, 6, 7, 8]\n",
      "[1, 2, 3, 4, 5, 6, 7, 8, 9]\n",
      "list 2: [10, 11, 12, 13]\n",
      "updated list1 : [1, 2, 3, 4, 5, 6, 7, 8, 9, 10, 11, 12, 13]\n",
      "[1, 2, 3, 4, 6, 7, 8, 9, 10, 11, 12, 13]\n",
      "[1, 2, 3, 6, 7, 8, 9, 10, 11, 12, 13]\n",
      "6\n",
      "12\n",
      "[]\n"
     ]
    }
   ],
   "source": [
    "# eg for list\n",
    "list1 = [1,2,3,4,5,6,7]\n",
    "len(list1) #gives the length of the list\n",
    "\n",
    "type(list1) # gives the type of the list\n",
    "\n",
    "list1.append(8) # adds the given element at the last\n",
    "print(\"list1:\", list1)\n",
    "\n",
    "list1.insert(8,9) # add the given element at the particular index given\n",
    "print(list1)\n",
    "\n",
    "list2 = [10,11,12,13] # declaring new list\n",
    "print(\"list 2:\",list2)\n",
    "\n",
    "list1.extend(list2) # using extend function\n",
    "print(\"updated list1 :\", list1)\n",
    "\n",
    "list1.pop(4) # pop() remove the element by indexing\n",
    "print(list1)\n",
    "\n",
    "list1.remove(4) # remove()  the element given\n",
    "print(list1)\n",
    "\n",
    "list3 = list1[3] # accessing the element by positive indexing\n",
    "print(list3)\n",
    "\n",
    "list4 = list1[-2] # accessing the element by negative indexing\n",
    "print(list4)\n",
    "\n",
    "list1.clear() # clears the full given set \n",
    "print(list1)\n",
    "\n",
    "\n",
    "\n",
    "\n",
    "\n"
   ]
  },
  {
   "cell_type": "code",
   "execution_count": 111,
   "metadata": {},
   "outputs": [
    {
     "name": "stdout",
     "output_type": "stream",
     "text": [
      "length of the given tuple is: 4\n",
      "type of the given data structure is: <class 'tuple'>\n",
      "list1: ['apple', 2, '0.03', ' true']\n",
      "list2: [3, 4, 5]\n",
      "updated list1: ['apple', 2, '0.03', ' true', [3, 4, 5]]\n",
      "updated list1: ['apple', 2, '0.03', ' true', [3, 4, 5], 10]\n",
      "updated list2: [3, 4, 5, 'apple', 2, '0.03', ' true', [...], 10]\n",
      "0.03\n",
      "10\n",
      "[]\n",
      "('apple', 2, ' true', [])\n"
     ]
    }
   ],
   "source": [
    "# egs for tuples\n",
    "tup1 = (\"apple\", 2, \"0.03\", \" true\")\n",
    "tup2 = (3,4,5)\n",
    "print(\"length of the given tuple is:\", len(tup1))\n",
    "print(\"type of the given data structure is:\", type(tup1))\n",
    "\n",
    "# in tuples we canot change the given data so by using list we can change\n",
    "list1 = list(tup1)\n",
    "print(\"list1:\", list1) # converting tuple to list\n",
    "\n",
    "list2 = list(tup2)\n",
    "print(\"list2:\", list2) # converting tuple to list\n",
    "\n",
    "list1[1:3:] # slicing\n",
    "\n",
    "list1.append(list2)\n",
    "print(\"updated list1:\", list1)\n",
    "\n",
    "list1.append(10)\n",
    "print(\"updated list1:\", list1)\n",
    "\n",
    "list2.extend(list1)\n",
    "print(\"updated list2:\", list2)\n",
    "\n",
    "print(list1.pop(2)) # positive indexing\n",
    "\n",
    "print(list1.pop(-1)) # negative indexing\n",
    "\n",
    "list2.clear() # clears the full list\n",
    "print(list2)\n",
    " \n",
    "list1.count(2) # counts the given value\n",
    "\n",
    "tup1 = tuple(list1) # converting list to tuple\n",
    "print(tup1)\n"
   ]
  },
  {
   "cell_type": "code",
   "execution_count": 130,
   "metadata": {},
   "outputs": [
    {
     "name": "stdout",
     "output_type": "stream",
     "text": [
      "<class 'dict'>\n",
      "length of the dict1: 2\n",
      "{'name': 'sri', 'roll no': 143}\n",
      "updated dict1: {'name': 'sri', 'roll no': 143, 'pincode': 560043}\n",
      "updated dict1: {'name': 'sri', 'roll no': 143}\n",
      "{'name': 'sri', 'roll no': 143, 'place': 'blr'}\n"
     ]
    }
   ],
   "source": [
    "# egs for dictonaries\n",
    "dict1 = {\"name\": \"eshitha\", \"roll no\": 224}\n",
    "dict2 = {\"place\": \"blr\"}\n",
    "\n",
    "print(type(dict1))\n",
    "print(\"length of the dict1:\",len(dict1))\n",
    "\n",
    "dict1[\"name\"] = \"sri\" # changing the value\n",
    "dict1[\"roll no\"] =143 # changing the value\n",
    "print(dict1)\n",
    "\n",
    "dict1[\"pincode\"] = 560043 # adding new key & value\n",
    "print(\"updated dict1:\", dict1)\n",
    "\n",
    "dict1.popitem() # removes the last inserted item\n",
    "print(\"updated dict1:\", dict1)\n",
    "\n",
    "dict1.update(dict2)\n",
    "print(dict1)\n"
   ]
  },
  {
   "cell_type": "code",
   "execution_count": 145,
   "metadata": {},
   "outputs": [
    {
     "name": "stdout",
     "output_type": "stream",
     "text": [
      "{2, 4, 5, 6, 7, 8}\n",
      "updated set2: {2, 4, 5, 6, 7, 8, 9, 10}\n",
      "{1, 2, 3, 4, 5, 6, 7, 8, 9, 10}\n",
      "{2, 4, 5}\n",
      "{1, 2, 3, 4, 5, 6, 7, 8, 9, 10}\n",
      "{2, 4, 5}\n",
      "{1, 3}\n",
      "{6, 7, 8, 9, 10}\n",
      "{1, 3, 6, 7, 8, 9, 10}\n",
      "{1, 3, 6, 7, 8, 9, 10}\n"
     ]
    }
   ],
   "source": [
    "# eg for sets\n",
    "set1 = {1,2,3,4,5}\n",
    "set2 ={4,5,6,7,8}\n",
    "set2.add(2) # by using add we can add only one elemet\n",
    "print(set2)\n",
    "set2.update([9,10]) # by using update we can add set of elements\n",
    "print(\"updated set2:\", set2)\n",
    "print(set1.union(set2))\n",
    "print(set1.intersection(set2))\n",
    "\n",
    "print(set2.union(set1))\n",
    "print(set2.intersection(set1))\n",
    "\n",
    "print(set1.difference(set2))\n",
    "print(set2.difference(set1))\n",
    "\n",
    "print(set1.symmetric_difference(set2))\n",
    "print(set2.symmetric_difference(set1))\n",
    "\n",
    "\n"
   ]
  },
  {
   "cell_type": "code",
   "execution_count": null,
   "metadata": {},
   "outputs": [],
   "source": []
  }
 ],
 "metadata": {
  "kernelspec": {
   "display_name": "Python 3",
   "language": "python",
   "name": "python3"
  },
  "language_info": {
   "codemirror_mode": {
    "name": "ipython",
    "version": 3
   },
   "file_extension": ".py",
   "mimetype": "text/x-python",
   "name": "python",
   "nbconvert_exporter": "python",
   "pygments_lexer": "ipython3",
   "version": "3.8.3"
  }
 },
 "nbformat": 4,
 "nbformat_minor": 4
}
