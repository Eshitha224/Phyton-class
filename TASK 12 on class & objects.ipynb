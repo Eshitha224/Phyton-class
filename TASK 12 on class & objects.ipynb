{
 "cells": [
  {
   "cell_type": "code",
   "execution_count": 10,
   "metadata": {},
   "outputs": [
    {
     "name": "stdout",
     "output_type": "stream",
     "text": [
      "eshitha\n",
      "24\n",
      "sri\n",
      "25\n"
     ]
    }
   ],
   "source": [
    "# eg for class and object\n",
    "class person:\n",
    " def __init__(self, name, age,gender):\n",
    "    self.name = name\n",
    "    self.age  = age\n",
    "    self.gender = gender\n",
    "p1 = person(\"eshitha\",24,\"female\")\n",
    "p2 = person(\"sri\",25,\"male\")\n",
    "print(p1.name)\n",
    "print(p1.age)\n",
    "print(p2.name)\n",
    "print(p2.age)"
   ]
  },
  {
   "cell_type": "code",
   "execution_count": 23,
   "metadata": {},
   "outputs": [
    {
     "name": "stdout",
     "output_type": "stream",
     "text": [
      "Hello my name is John\n"
     ]
    }
   ],
   "source": [
    "class Person:\n",
    "  def __init__(self, name, age, gender):\n",
    "    self.name = name\n",
    "    self.age  = age\n",
    "    self.gender = gender\n",
    "\n",
    "  def myfunc(self):\n",
    "    print(\"Hello my name is \" + self.name)\n",
    "\n",
    "p1 = Person(\"John\", 36,\"male\")\n",
    "p1.myfunc()\n"
   ]
  },
  {
   "cell_type": "code",
   "execution_count": 26,
   "metadata": {},
   "outputs": [
    {
     "name": "stdout",
     "output_type": "stream",
     "text": [
      "Hello my name is eshitha\n"
     ]
    }
   ],
   "source": [
    "p1.name = \"eshitha\" # modifing the object\n",
    "p1.myfunc()"
   ]
  },
  {
   "cell_type": "code",
   "execution_count": 73,
   "metadata": {},
   "outputs": [
    {
     "name": "stdout",
     "output_type": "stream",
     "text": [
      "Hello my name is eshitha\n"
     ]
    }
   ],
   "source": [
    "class employee:\n",
    "    name = \"sri\"\n",
    "    age  = \"55\"\n",
    "    salary = \"5000 \"\n",
    "    status = \"temp\"\n",
    "def __init__(self, name, age,salary):\n",
    "      self.name = name\n",
    "      self.age  = age\n",
    "      self.salary = salary\n",
    "def myfunc(self):\n",
    "    print(\"Hello my name is \" + self.name, \"age\" +self.age,\"salary\"+self.salary)\n",
    "\n",
    "p1 = Person(\"eshitha\", 36,\"2500\")\n",
    "p1.myfunc()\n",
    "\n",
    "\n",
    "    "
   ]
  },
  {
   "cell_type": "code",
   "execution_count": 79,
   "metadata": {},
   "outputs": [
    {
     "name": "stdout",
     "output_type": "stream",
     "text": [
      "Name :  eshitha , Salary:  2000\n",
      "Name :  sri , Salary:  5000\n",
      "Total Employee 2\n"
     ]
    }
   ],
   "source": [
    "class Employee:\n",
    "   'Common base class for all employees'\n",
    "   empCount = 0\n",
    "\n",
    "   def __init__(self, name, salary):\n",
    "      self.name = name\n",
    "      self.salary = salary\n",
    "      Employee.empCount += 1\n",
    "   \n",
    "   def displayCount(self):\n",
    "     print (\"Total Employee %d\" % Employee.empCount)\n",
    "\n",
    "   def displayEmployee(self):\n",
    "      print (\"Name : \", self.name,  \", Salary: \", self.salary)\n",
    "\n",
    "emp1 = Employee(\"eshitha\", 2000)\n",
    "emp2 = Employee(\"sri\", 5000)\n",
    "emp1.displayEmployee()\n",
    "emp2.displayEmployee()\n",
    "print (\"Total Employee %d\" % Employee.empCount)"
   ]
  },
  {
   "cell_type": "code",
   "execution_count": null,
   "metadata": {},
   "outputs": [],
   "source": []
  }
 ],
 "metadata": {
  "kernelspec": {
   "display_name": "Python 3",
   "language": "python",
   "name": "python3"
  },
  "language_info": {
   "codemirror_mode": {
    "name": "ipython",
    "version": 3
   },
   "file_extension": ".py",
   "mimetype": "text/x-python",
   "name": "python",
   "nbconvert_exporter": "python",
   "pygments_lexer": "ipython3",
   "version": "3.8.3"
  }
 },
 "nbformat": 4,
 "nbformat_minor": 4
}
