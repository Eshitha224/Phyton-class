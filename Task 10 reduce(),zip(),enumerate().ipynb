{
 "cells": [
  {
   "cell_type": "code",
   "execution_count": 1,
   "metadata": {},
   "outputs": [],
   "source": [
    "# reduce() \n",
    "#It performs a rolling-computation as specified by the passed function to the neighboring elements,\n",
    "#by taking a function and an iterable as arguments, and returns the final computed value.\n",
    "#A rolling-computation is the one where we compute the required value by going through all of the data starting from the first value, \n",
    "#where each new result depends on the last computed result of the previous data."
   ]
  },
  {
   "cell_type": "code",
   "execution_count": 14,
   "metadata": {},
   "outputs": [
    {
     "name": "stdout",
     "output_type": "stream",
     "text": [
      "10\n"
     ]
    }
   ],
   "source": [
    "# syntax:  reduce()\n",
    "# with pre defined function\n",
    "\n",
    "from functools import reduce\n",
    "# Returns the sum of two elements\n",
    "def sumTwo(a,b):\n",
    "    return a+b\n",
    "\n",
    "result = reduce(sumTwo, [1, 2, 3, 4]) # 1+2=3,3+3=6, 6+4=10\n",
    "print(result)"
   ]
  },
  {
   "cell_type": "code",
   "execution_count": 17,
   "metadata": {},
   "outputs": [
    {
     "name": "stdout",
     "output_type": "stream",
     "text": [
      "10\n"
     ]
    }
   ],
   "source": [
    "# with lamda function\n",
    "# syntax for lambda function lambda arguments : expression\n",
    "from functools import reduce\n",
    "result = reduce(lambda a,b:a+b,[1, 2, 3, 4]) \n",
    "print(result)"
   ]
  },
  {
   "cell_type": "code",
   "execution_count": 23,
   "metadata": {},
   "outputs": [
    {
     "name": "stdout",
     "output_type": "stream",
     "text": [
      "6\n"
     ]
    }
   ],
   "source": [
    "from functools import reduce\n",
    "# returns the mul of two elements\n",
    "def mul(a,b):\n",
    "    return a*b\n",
    "result = reduce(mul, [1,2,3]) #1*2=2, 2*3=6\n",
    "print(result)"
   ]
  },
  {
   "cell_type": "code",
   "execution_count": 24,
   "metadata": {},
   "outputs": [
    {
     "name": "stdout",
     "output_type": "stream",
     "text": [
      "6\n"
     ]
    }
   ],
   "source": [
    "from functools import reduce\n",
    "result = reduce(lambda a,b: a*b, [1,2,3])\n",
    "print(result)"
   ]
  },
  {
   "cell_type": "code",
   "execution_count": 28,
   "metadata": {},
   "outputs": [
    {
     "name": "stdout",
     "output_type": "stream",
     "text": [
      "[(1, 'a'), (2, 'b'), (3, 'c')]\n"
     ]
    }
   ],
   "source": [
    "# zip function: The zip() function returns a zip object\n",
    "# syntax zip(iteration 1 , iteration 2, iteration 3)\n",
    "a = (1,2,3)\n",
    "b = (\"a\", \"b\", \"c\")\n",
    "result = list(zip(a,b))\n",
    "print(result)"
   ]
  },
  {
   "cell_type": "code",
   "execution_count": 29,
   "metadata": {},
   "outputs": [
    {
     "name": "stdout",
     "output_type": "stream",
     "text": [
      "[(1, 'a'), (2, 'b'), (3, 'c')]\n"
     ]
    }
   ],
   "source": [
    "a = (1,2,3) # zip function stop iteration at the shortest iterable\n",
    "b = (\"a\", \"b\", \"c\", \"d\", \"e\")\n",
    "result = list(zip(a,b))\n",
    "print(result)"
   ]
  },
  {
   "cell_type": "code",
   "execution_count": 36,
   "metadata": {},
   "outputs": [
    {
     "name": "stdout",
     "output_type": "stream",
     "text": [
      "[(1, 'a'), (2, 'b'), (3, 'c'), (4, 'd'), (5, 'e')]\n"
     ]
    }
   ],
   "source": [
    "a = [1,2,3,4,5,6,7,8] \n",
    "b = [\"a\", \"b\", \"c\", \"d\", \"e\"] # zip function stop iteration at the shortest iterable\n",
    "result = list(zip(a,b))\n",
    "print(result)"
   ]
  },
  {
   "cell_type": "code",
   "execution_count": 44,
   "metadata": {},
   "outputs": [
    {
     "name": "stdout",
     "output_type": "stream",
     "text": [
      "[(0, 55), (1, 65), (2, 33)]\n",
      "[(2, 'apple'), (3, 'banana')]\n"
     ]
    }
   ],
   "source": [
    "#Enumerate() method adds a counter to an iterable and returns it in a form of enumerate object.\n",
    "# syntax enumerate(iterations, 0)\n",
    "int = (55,65,33)\n",
    "str = (\"apple\", \"banana\")\n",
    "result1 = list(enumerate(int)) #here its taking the defaul indexing 0\n",
    "print(result1)\n",
    "result2 = list(enumerate(str,2)) # here as we assigned the index value 2 , count starts from 2\n",
    "print(result2)\n"
   ]
  },
  {
   "cell_type": "code",
   "execution_count": 45,
   "metadata": {},
   "outputs": [
    {
     "name": "stdout",
     "output_type": "stream",
     "text": [
      "[(0, 55), (1, 65), (2, 33), (3, 55), (4, 58), (5, 69), (6, 75), (7, 22), (8, 65)]\n",
      "[(2, 'a'), (3, 'p'), (4, 'p'), (5, 'l'), (6, 'e'), (7, ' '), (8, 'i'), (9, 's'), (10, ' '), (11, 'a'), (12, ' '), (13, 'f'), (14, 'r'), (15, 'u'), (16, 'i'), (17, 't')]\n"
     ]
    }
   ],
   "source": [
    "int = (55,65,33,55,58,69,75,22,65)\n",
    "str = (\"apple is a fruit\")\n",
    "result1 = list(enumerate(int)) #here its taking the defaul indexing 0\n",
    "print(result1)\n",
    "result2 = list(enumerate(str,2)) # here as we assigned the index value 2 , count starts from 2\n",
    "print(result2)"
   ]
  },
  {
   "cell_type": "code",
   "execution_count": null,
   "metadata": {},
   "outputs": [],
   "source": []
  },
  {
   "cell_type": "code",
   "execution_count": null,
   "metadata": {},
   "outputs": [],
   "source": []
  }
 ],
 "metadata": {
  "kernelspec": {
   "display_name": "Python 3",
   "language": "python",
   "name": "python3"
  },
  "language_info": {
   "codemirror_mode": {
    "name": "ipython",
    "version": 3
   },
   "file_extension": ".py",
   "mimetype": "text/x-python",
   "name": "python",
   "nbconvert_exporter": "python",
   "pygments_lexer": "ipython3",
   "version": "3.8.3"
  }
 },
 "nbformat": 4,
 "nbformat_minor": 4
}
