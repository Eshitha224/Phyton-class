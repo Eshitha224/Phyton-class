{
 "cells": [
  {
   "cell_type": "code",
   "execution_count": 7,
   "metadata": {},
   "outputs": [
    {
     "name": "stdout",
     "output_type": "stream",
     "text": [
      "enter num1 value:15\n",
      "enter num2 value:10\n",
      "1.add,2.sub,3.mul,4.div\n",
      "enter the math operation required:2\n",
      "5\n",
      "not a valid number\n"
     ]
    }
   ],
   "source": [
    "num1 = int(input(\"enter num1 value:\" ))\n",
    "num2 = int(input(\"enter num2 value:\" ))\n",
    "print(\"1.add,2.sub,3.mul,4.div\")\n",
    "c = int(input(\"enter the math operation required:\" ))\n",
    "if c == 1:\n",
    "    print(num1+num2) \n",
    "if c == 2:\n",
    "        print(num1-num2)\n",
    "if c == 3:\n",
    "        print(num1/num2)\n",
    "elif c == 4:\n",
    "        print(num1*num2)\n",
    "else:\n",
    "    print(\"not a valid number\")\n",
    "    "
   ]
  },
  {
   "cell_type": "code",
   "execution_count": 8,
   "metadata": {},
   "outputs": [
    {
     "name": "stdout",
     "output_type": "stream",
     "text": [
      "enter num1 value:5\n",
      "enter num2 value:5\n",
      "1.add,2.sub,3.mul,4.div\n",
      "enter the math operation required:4\n",
      "25\n"
     ]
    }
   ],
   "source": [
    "num1 = int(input(\"enter num1 value:\" ))\n",
    "num2 = int(input(\"enter num2 value:\" ))\n",
    "print(\"1.add,2.sub,3.mul,4.div\")\n",
    "c = int(input(\"enter the math operation required:\" ))\n",
    "if c == 1:\n",
    "    print(num1+num2) \n",
    "if c == 2:\n",
    "        print(num1-num2)\n",
    "if c == 3:\n",
    "        print(num1/num2)\n",
    "elif c == 4:\n",
    "        print(num1*num2)\n",
    "\n",
    "    "
   ]
  },
  {
   "cell_type": "code",
   "execution_count": 9,
   "metadata": {},
   "outputs": [
    {
     "name": "stdout",
     "output_type": "stream",
     "text": [
      "enter num1 value:1\n",
      "enter num2 value:3\n",
      "1.add,2.sub,3.mul,4.div\n",
      "enter the math operation required:1\n",
      "4\n"
     ]
    }
   ],
   "source": [
    "num1 = int(input(\"enter num1 value:\" ))\n",
    "num2 = int(input(\"enter num2 value:\" ))\n",
    "print(\"1.add,2.sub,3.mul,4.div\")\n",
    "c = int(input(\"enter the math operation required:\" ))\n",
    "if c == 1:\n",
    "    print(num1+num2) \n",
    "if c == 2:\n",
    "        print(num1-num2)\n",
    "if c == 3:\n",
    "        print(num1/num2)\n",
    "elif c == 4:\n",
    "        print(num1*num2)\n"
   ]
  },
  {
   "cell_type": "code",
   "execution_count": 10,
   "metadata": {},
   "outputs": [
    {
     "name": "stdout",
     "output_type": "stream",
     "text": [
      "enter num1 value:3\n",
      "enter num2 value:2\n",
      "1.add,2.sub,3.mul,4.div\n",
      "enter the math operation required:3\n",
      "1.5\n"
     ]
    }
   ],
   "source": [
    "num1 = int(input(\"enter num1 value:\" ))\n",
    "num2 = int(input(\"enter num2 value:\" ))\n",
    "print(\"1.add,2.sub,3.mul,4.div\")\n",
    "c = int(input(\"enter the math operation required:\" ))\n",
    "if c == 1:\n",
    "    print(num1+num2) \n",
    "if c == 2:\n",
    "        print(num1-num2)\n",
    "if c == 3:\n",
    "        print(num1/num2)\n",
    "elif c == 4:\n",
    "        print(num1*num2)\n"
   ]
  },
  {
   "cell_type": "code",
   "execution_count": null,
   "metadata": {},
   "outputs": [],
   "source": []
  }
 ],
 "metadata": {
  "kernelspec": {
   "display_name": "Python 3",
   "language": "python",
   "name": "python3"
  },
  "language_info": {
   "codemirror_mode": {
    "name": "ipython",
    "version": 3
   },
   "file_extension": ".py",
   "mimetype": "text/x-python",
   "name": "python",
   "nbconvert_exporter": "python",
   "pygments_lexer": "ipython3",
   "version": "3.8.3"
  }
 },
 "nbformat": 4,
 "nbformat_minor": 4
}
