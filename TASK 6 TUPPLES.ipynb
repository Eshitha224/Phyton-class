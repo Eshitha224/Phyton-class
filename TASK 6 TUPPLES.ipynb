{
 "cells": [
  {
   "cell_type": "markdown",
   "metadata": {},
   "source": [
    "# Add & remove items from tuples"
   ]
  },
  {
   "cell_type": "code",
   "execution_count": 3,
   "metadata": {},
   "outputs": [
    {
     "data": {
      "text/plain": [
       "[1, 2, 3, 'a', 'b', 'c']"
      ]
     },
     "execution_count": 3,
     "metadata": {},
     "output_type": "execute_result"
    }
   ],
   "source": [
    "tup1 = (1,2,3,'a','b','c')\n",
    "list1 = list(tup1) # coverting tuple to list\n",
    "list1"
   ]
  },
  {
   "cell_type": "code",
   "execution_count": 9,
   "metadata": {},
   "outputs": [
    {
     "name": "stdout",
     "output_type": "stream",
     "text": [
      "[1, 'd', 3, 'a', 'b', 'c']\n"
     ]
    }
   ],
   "source": [
    "list1=[1,2,3,'a','b','c']\n",
    "list1[1]=\"d\" #placing string d in the index number 1\n",
    "print(list1)"
   ]
  },
  {
   "cell_type": "code",
   "execution_count": 12,
   "metadata": {},
   "outputs": [
    {
     "data": {
      "text/plain": [
       "(1, 'd', 3, 'a', 'b', 'c')"
      ]
     },
     "execution_count": 12,
     "metadata": {},
     "output_type": "execute_result"
    }
   ],
   "source": [
    "tup1 = tuple(list1)#converting list to tuple\n",
    "tup1"
   ]
  },
  {
   "cell_type": "code",
   "execution_count": 14,
   "metadata": {},
   "outputs": [
    {
     "data": {
      "text/plain": [
       "[1, 'd', 3, 'a', 'b', 'c']"
      ]
     },
     "execution_count": 14,
     "metadata": {},
     "output_type": "execute_result"
    }
   ],
   "source": [
    "list2 = list(tup1)\n",
    "list2"
   ]
  },
  {
   "cell_type": "code",
   "execution_count": 20,
   "metadata": {},
   "outputs": [
    {
     "name": "stdout",
     "output_type": "stream",
     "text": [
      "['d', 3, 'a', 'b', 'c']\n"
     ]
    }
   ],
   "source": [
    "# removing can be done in list with del, pop, clear\n",
    "#eg for remove\n",
    "list2.remove(1) # removing 1 from list2\n",
    "print(list2)"
   ]
  },
  {
   "cell_type": "code",
   "execution_count": 21,
   "metadata": {},
   "outputs": [
    {
     "data": {
      "text/plain": [
       "('d', 3, 'a', 'b', 'c')"
      ]
     },
     "execution_count": 21,
     "metadata": {},
     "output_type": "execute_result"
    }
   ],
   "source": [
    "tup2 = tuple(list2) # Converting list to tuple\n",
    "tup2"
   ]
  },
  {
   "cell_type": "code",
   "execution_count": 28,
   "metadata": {},
   "outputs": [
    {
     "name": "stdout",
     "output_type": "stream",
     "text": [
      "[1, 2, 3, 5, 10, 11]\n",
      "3\n"
     ]
    }
   ],
   "source": [
    "# eg for pop\n",
    "tup3 = (1,2,3,5,10,11)\n",
    "list4 = list(tup3) # converting tuple to list\n",
    "print(list4) # printing list\n",
    "print(list4.pop(2)) # pop index number 2"
   ]
  },
  {
   "cell_type": "code",
   "execution_count": 32,
   "metadata": {},
   "outputs": [
    {
     "name": "stdout",
     "output_type": "stream",
     "text": [
      "[1, 2, 3, 5, 10, 11]\n",
      "[1, 2, 3, 5, 11]\n"
     ]
    }
   ],
   "source": [
    "# eg for del\n",
    "tup3 = (1,2,3,5,10,11)\n",
    "list4 = list(tup3) # converting tuple to list\n",
    "print(list4) # printing list\n",
    "del list4[-2] # deleting int from the given tuple by neg indexing\n",
    "print(list4)"
   ]
  },
  {
   "cell_type": "code",
   "execution_count": 36,
   "metadata": {},
   "outputs": [
    {
     "name": "stdout",
     "output_type": "stream",
     "text": [
      "[1, 2, 3, 5, 10, 11]\n",
      "[1, 2, 3, 5, 10, 11, 150]\n",
      "(1, 2, 3, 5, 10, 11, 150)\n"
     ]
    }
   ],
   "source": [
    "# egs for adding using append\n",
    "tup3 = (1,2,3,5,10,11)\n",
    "list4 = list(tup3) # converting tuple to list\n",
    "print(list4) # printing list\n",
    "list4.append(150) # adding 150 to the list\n",
    "print(list4) \n",
    "tup3 = tuple(list4) # coverting list to tuple\n",
    "print(tup3)"
   ]
  },
  {
   "cell_type": "code",
   "execution_count": 40,
   "metadata": {},
   "outputs": [
    {
     "name": "stdout",
     "output_type": "stream",
     "text": [
      "[1, 2, 3, 5, 10, 11]\n",
      "[1, 2, 3, 5, 10, 11, 20]\n",
      "(1, 2, 3, 5, 10, 11, 20)\n"
     ]
    }
   ],
   "source": [
    "tup3 = (1,2,3,5,10,11)\n",
    "list4 = list(tup3) # converting tuple to list\n",
    "print(list4) # printing list\n",
    "list4.append(20) # adding 20 to the list\n",
    "print(list4) \n",
    "tup3 = tuple(list4) # coverting list to tuple\n",
    "print(tup3)"
   ]
  },
  {
   "cell_type": "code",
   "execution_count": 43,
   "metadata": {},
   "outputs": [
    {
     "name": "stdout",
     "output_type": "stream",
     "text": [
      "[1, 2, 3, 5, 10, 11]\n",
      "[1, 2, 3, 5, 10, 11, 'hello']\n",
      "(1, 2, 3, 5, 10, 11, 'hello')\n"
     ]
    }
   ],
   "source": [
    "tup3 = (1,2,3,5,10,11)\n",
    "list4 = list(tup3) # converting tuple to list\n",
    "print(list4) # printing list\n",
    "list4.append(\"hello\") # adding string to the list\n",
    "print(list4) \n",
    "tup3 = tuple(list4) # coverting list to tuple\n",
    "print(tup3)"
   ]
  },
  {
   "cell_type": "code",
   "execution_count": null,
   "metadata": {},
   "outputs": [],
   "source": []
  }
 ],
 "metadata": {
  "kernelspec": {
   "display_name": "Python 3",
   "language": "python",
   "name": "python3"
  },
  "language_info": {
   "codemirror_mode": {
    "name": "ipython",
    "version": 3
   },
   "file_extension": ".py",
   "mimetype": "text/x-python",
   "name": "python",
   "nbconvert_exporter": "python",
   "pygments_lexer": "ipython3",
   "version": "3.8.3"
  }
 },
 "nbformat": 4,
 "nbformat_minor": 4
}
