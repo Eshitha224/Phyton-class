{
 "cells": [
  {
   "cell_type": "code",
   "execution_count": 1,
   "metadata": {},
   "outputs": [
    {
     "name": "stdout",
     "output_type": "stream",
     "text": [
      "enter num1 value: 2\n",
      "eneter num2 value:3\n",
      "1 for addition, 2 for subtraction, 3 for multiplication, 4 for division\n",
      "enter the oper required: 1\n"
     ]
    }
   ],
   "source": [
    "# TASK 11\n",
    "num1 = int(input(\"enter num1 value: \"))\n",
    "num2 = int(input(\"eneter num2 value:\"))\n",
    "print(\"1 for addition, 2 for subtraction, 3 for multiplication, 4 for division\")\n",
    "num3 = int(input(\"enter the oper required: \"))\n",
    "def func1():\n",
    "    print(num1+num2)\n",
    "def func2():\n",
    "    print(num1 - num2)\n",
    "def func3():\n",
    "    print(num1 * num2)\n",
    "def func4():\n",
    "    print(num1 / num2)"
   ]
  },
  {
   "cell_type": "code",
   "execution_count": 9,
   "metadata": {},
   "outputs": [
    {
     "name": "stdout",
     "output_type": "stream",
     "text": [
      "15\n"
     ]
    }
   ],
   "source": [
    "func1()\n",
    "\n"
   ]
  },
  {
   "cell_type": "code",
   "execution_count": 10,
   "metadata": {},
   "outputs": [
    {
     "name": "stdout",
     "output_type": "stream",
     "text": [
      "enter num1 value: 10\n",
      "eneter num2 value:20\n",
      "1 for addition, 2 for subtraction, 3 for multiplication, 4 for division\n",
      "enter the oper required: 2\n"
     ]
    }
   ],
   "source": [
    "num1 = float(input(\"enter num1 value: \"))\n",
    "num2 = float(input(\"eneter num2 value:\"))\n",
    "print(\"1 for addition, 2 for subtraction, 3 for multiplication, 4 for division\")\n",
    "num3 = float(input(\"enter the oper required: \"))\n",
    "def func1():\n",
    "    print(num1+num2)\n",
    "def func2():\n",
    "    print(num1 - num2)\n",
    "def func3():\n",
    "    print(num1 * num2)\n",
    "def func4():\n",
    "    print(num1 / num2)"
   ]
  },
  {
   "cell_type": "code",
   "execution_count": 11,
   "metadata": {},
   "outputs": [
    {
     "name": "stdout",
     "output_type": "stream",
     "text": [
      "-10.0\n"
     ]
    }
   ],
   "source": [
    "\n",
    "func2()\n"
   ]
  },
  {
   "cell_type": "code",
   "execution_count": 12,
   "metadata": {},
   "outputs": [
    {
     "name": "stdout",
     "output_type": "stream",
     "text": [
      "enter num1 value: 20\n",
      "eneter num2 value:10\n",
      "1 for addition, 2 for subtraction, 3 for multiplication, 4 for division\n",
      "enter the oper required: 4\n"
     ]
    }
   ],
   "source": [
    "num1 = int(input(\"enter num1 value: \"))\n",
    "num2 = int(input(\"eneter num2 value:\"))\n",
    "print(\"1 for addition, 2 for subtraction, 3 for multiplication, 4 for division\")\n",
    "num3 = int(input(\"enter the oper required: \"))\n",
    "def sum():\n",
    "    print(num1+num2)\n",
    "def sub():\n",
    "    print(num1 - num2)\n",
    "def mul():\n",
    "    print(num1 * num2)\n",
    "def div():\n",
    "    print(num1 / num2)"
   ]
  },
  {
   "cell_type": "code",
   "execution_count": 13,
   "metadata": {},
   "outputs": [
    {
     "name": "stdout",
     "output_type": "stream",
     "text": [
      "2.0\n"
     ]
    }
   ],
   "source": [
    "div()\n",
    "\n"
   ]
  },
  {
   "cell_type": "code",
   "execution_count": null,
   "metadata": {},
   "outputs": [],
   "source": []
  }
 ],
 "metadata": {
  "kernelspec": {
   "display_name": "Python 3",
   "language": "python",
   "name": "python3"
  },
  "language_info": {
   "codemirror_mode": {
    "name": "ipython",
    "version": 3
   },
   "file_extension": ".py",
   "mimetype": "text/x-python",
   "name": "python",
   "nbconvert_exporter": "python",
   "pygments_lexer": "ipython3",
   "version": "3.8.3"
  }
 },
 "nbformat": 4,
 "nbformat_minor": 4
}
